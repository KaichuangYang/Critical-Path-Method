{
 "cells": [
  {
   "cell_type": "code",
   "execution_count": 4,
   "metadata": {},
   "outputs": [
    {
     "ename": "ModuleNotFoundError",
     "evalue": "No module named 'Functions'",
     "output_type": "error",
     "traceback": [
      "\u001b[0;31m---------------------------------------------------------------------------\u001b[0m",
      "\u001b[0;31mModuleNotFoundError\u001b[0m                       Traceback (most recent call last)",
      "Cell \u001b[0;32mIn [4], line 1\u001b[0m\n\u001b[0;32m----> 1\u001b[0m \u001b[39mimport\u001b[39;00m \u001b[39mget_EETs\u001b[39;00m\u001b[39m,\u001b[39m\u001b[39mMy_CPM\u001b[39;00m\n\u001b[1;32m      2\u001b[0m \u001b[39mimport\u001b[39;00m \u001b[39mproject_network_generater\u001b[39;00m\n",
      "File \u001b[0;32m~/Desktop/Project_Network_OR2_Assignment/Functions/My_CPM.py:1\u001b[0m\n\u001b[0;32m----> 1\u001b[0m \u001b[39mfrom\u001b[39;00m \u001b[39mFunctions\u001b[39;00m \u001b[39mimport\u001b[39;00m project_network_generater\n\u001b[1;32m      2\u001b[0m \u001b[39mfrom\u001b[39;00m \u001b[39mFunctions\u001b[39;00m \u001b[39mimport\u001b[39;00m get_EETs,get_LETs,get_TFs\n\u001b[1;32m      4\u001b[0m \u001b[39mdef\u001b[39;00m \u001b[39mMy_CPM\u001b[39m(n\u001b[39m=\u001b[39m\u001b[39m30\u001b[39m):\n",
      "\u001b[0;31mModuleNotFoundError\u001b[0m: No module named 'Functions'"
     ]
    }
   ],
   "source": [
    "import get_EETs,My_CPM\n",
    "import project_network_generater"
   ]
  },
  {
   "cell_type": "code",
   "execution_count": 2,
   "metadata": {},
   "outputs": [
    {
     "data": {
      "text/plain": [
       "array([[-1,  1,  3,  1,  7,  2,  5],\n",
       "       [-1, -1,  5,  8, -1,  7,  6],\n",
       "       [-1, -1, -1, 10,  5,  6,  5],\n",
       "       [-1, -1, -1, -1,  8, -1,  0],\n",
       "       [-1, -1, -1, -1, -1,  8, -1],\n",
       "       [-1, -1, -1, -1, -1, -1,  8],\n",
       "       [-1, -1, -1, -1, -1, -1, -1]])"
      ]
     },
     "execution_count": 2,
     "metadata": {},
     "output_type": "execute_result"
    }
   ],
   "source": [
    "G=project_network_generater.project_network_generater(7)\n",
    "G"
   ]
  },
  {
   "cell_type": "code",
   "execution_count": 3,
   "metadata": {},
   "outputs": [
    {
     "data": {
      "text/plain": [
       "[0, 1, 6, 16, 24, 32, 40]"
      ]
     },
     "execution_count": 3,
     "metadata": {},
     "output_type": "execute_result"
    }
   ],
   "source": [
    "get_EETs.get_EETs(G)"
   ]
  },
  {
   "cell_type": "code",
   "execution_count": 6,
   "metadata": {},
   "outputs": [
    {
     "ename": "NameError",
     "evalue": "name 'My_CPM' is not defined",
     "output_type": "error",
     "traceback": [
      "\u001b[0;31m---------------------------------------------------------------------------\u001b[0m",
      "\u001b[0;31mNameError\u001b[0m                                 Traceback (most recent call last)",
      "Cell \u001b[0;32mIn [6], line 1\u001b[0m\n\u001b[0;32m----> 1\u001b[0m My_CPM\u001b[39m.\u001b[39mMy_CPM()\n",
      "\u001b[0;31mNameError\u001b[0m: name 'My_CPM' is not defined"
     ]
    }
   ],
   "source": [
    "My_CPM.My_CPM()"
   ]
  },
  {
   "cell_type": "code",
   "execution_count": 9,
   "metadata": {},
   "outputs": [],
   "source": [
    "import project_network_generater\n",
    "import get_EETs,get_LETs,get_TFs\n",
    "def My_CPM(n=30):\n",
    "    G=project_network_generater.project_network_generater(n)\n",
    "    EET=get_EETs.get_EETs(G)\n",
    "    LET=get_LETs.get_LETs(G,EET)\n",
    "    TFs_Dict=get_TFs.get_TFs(G,EET,LET)\n",
    "    critical_Path=[]\n",
    "    for i in list(TFs_Dict.keys()):\n",
    "        if TFs_Dict[i]==0:\n",
    "            critical_Path.append(i)\n",
    "    return critical_Path"
   ]
  },
  {
   "cell_type": "code",
   "execution_count": 10,
   "metadata": {},
   "outputs": [
    {
     "data": {
      "text/plain": [
       "['[1, 2]',\n",
       " '[2, 4]',\n",
       " '[4, 5]',\n",
       " '[5, 6]',\n",
       " '[6, 7]',\n",
       " '[7, 8]',\n",
       " '[8, 10]',\n",
       " '[10, 11]',\n",
       " '[11, 12]',\n",
       " '[12, 14]',\n",
       " '[14, 15]',\n",
       " '[15, 16]',\n",
       " '[16, 17]',\n",
       " '[17, 18]',\n",
       " '[18, 19]',\n",
       " '[19, 20]',\n",
       " '[20, 21]',\n",
       " '[21, 22]',\n",
       " '[22, 23]',\n",
       " '[23, 24]',\n",
       " '[24, 25]',\n",
       " '[25, 26]',\n",
       " '[26, 27]',\n",
       " '[27, 28]',\n",
       " '[28, 29]',\n",
       " '[29, 30]']"
      ]
     },
     "execution_count": 10,
     "metadata": {},
     "output_type": "execute_result"
    }
   ],
   "source": [
    "My_CPM()"
   ]
  },
  {
   "cell_type": "code",
   "execution_count": 1,
   "metadata": {},
   "outputs": [
    {
     "data": {
      "text/plain": [
       "['[1, 3]',\n",
       " '[3, 4]',\n",
       " '[4, 5]',\n",
       " '[5, 6]',\n",
       " '[6, 7]',\n",
       " '[7, 8]',\n",
       " '[8, 9]',\n",
       " '[9, 10]',\n",
       " '[10, 11]',\n",
       " '[11, 12]',\n",
       " '[12, 13]',\n",
       " '[13, 14]',\n",
       " '[14, 15]',\n",
       " '[15, 16]',\n",
       " '[16, 17]',\n",
       " '[17, 18]',\n",
       " '[18, 19]',\n",
       " '[19, 20]',\n",
       " '[20, 21]',\n",
       " '[21, 22]',\n",
       " '[22, 23]',\n",
       " '[23, 24]',\n",
       " '[24, 25]',\n",
       " '[25, 27]',\n",
       " '[27, 30]']"
      ]
     },
     "execution_count": 1,
     "metadata": {},
     "output_type": "execute_result"
    }
   ],
   "source": [
    "import My_CPM\n",
    "My_CPM.My_CPM()"
   ]
  },
  {
   "cell_type": "code",
   "execution_count": 4,
   "metadata": {},
   "outputs": [
    {
     "data": {
      "text/plain": [
       "0.9266057973939348"
      ]
     },
     "execution_count": 4,
     "metadata": {},
     "output_type": "execute_result"
    }
   ],
   "source": [
    "import random\n",
    "random.random()"
   ]
  },
  {
   "cell_type": "code",
   "execution_count": 5,
   "metadata": {},
   "outputs": [],
   "source": [
    "from random import randint,random\n",
    "import numpy as np\n",
    "\n",
    "def project_network_generater(n=30):\n",
    "    G=np.ones((n,n))\n",
    "    G*=-1\n",
    "# Make sure node 1 :node n has a full connected path\n",
    "    for i in range(n):\n",
    "            for j in range(i+1,n):\n",
    "                connect_index=random()   #uniform(0,1),decide whether the node is connected\n",
    "                if connect_index<0.5:\n",
    "                    G[i,j]=randint(-1,10)\n",
    "                else:\n",
    "                    G[i,j]=-1\n",
    "    for i in range(n-1):\n",
    "        j=i+1\n",
    "        G[i,j]=randint(0,10)\n",
    "# Ensuring at most 4 income\n",
    "    for i in range(5,n):\n",
    "        popout_List=[]\n",
    "        while len(popout_List)<i-4:\n",
    "            random_Popout_Index=randint(0,i-2)\n",
    "            if  random_Popout_Index in popout_List:\n",
    "                continue\n",
    "            else:\n",
    "                popout_List.append(random_Popout_Index)\n",
    "        for item in popout_List:\n",
    "            G[item,i]=-1\n",
    "    return G"
   ]
  },
  {
   "cell_type": "code",
   "execution_count": 11,
   "metadata": {},
   "outputs": [
    {
     "data": {
      "text/plain": [
       "array([[-1.,  7.,  5., -1., -1., -1., -1., -1.],\n",
       "       [-1., -1.,  4., -1., -1., -1., -1., -1.],\n",
       "       [-1., -1., -1.,  1.,  4., -1.,  4.,  1.],\n",
       "       [-1., -1., -1., -1.,  8.,  8.,  1., -1.],\n",
       "       [-1., -1., -1., -1., -1., 10., -1., -1.],\n",
       "       [-1., -1., -1., -1., -1., -1.,  9., -1.],\n",
       "       [-1., -1., -1., -1., -1., -1., -1.,  0.],\n",
       "       [-1., -1., -1., -1., -1., -1., -1., -1.]])"
      ]
     },
     "execution_count": 11,
     "metadata": {},
     "output_type": "execute_result"
    }
   ],
   "source": [
    "project_network_generater(8)"
   ]
  },
  {
   "cell_type": "code",
   "execution_count": 354,
   "metadata": {},
   "outputs": [],
   "source": [
    "import project_network_generater_v2\n",
    "import get_EETs,get_LETs,get_TFs\n",
    "import numpy as np\n",
    "\n",
    "def My_CPM(x=[],n=30):\n",
    "    if x==[] and n !=30:\n",
    "        print(f'You are running a project network with {n} nodes as you setup')\n",
    "        G=project_network_generater_v2.project_network_generater(n)\n",
    "    elif x!=[] and n!=30:\n",
    "        print('ERRO!Please do not enter x and n simutanously!')\n",
    "    elif x==[] and n==30:\n",
    "        print('You are running a project network with 30 nodes as default')\n",
    "        G=project_network_generater_v2.project_network_generater(n)\n",
    "    else:\n",
    "        tt=list(map(len,x))\n",
    "        TT=list(tt[0]*np.ones(len(tt)))\n",
    "        if TT==tt:\n",
    "            G=np.array(x)\n",
    "            print(f'You are running a project network with {tt[0]} nodes as you setup')\n",
    "        else:\n",
    "            print('define a n x n matrix with n list, each list has n element, make sure it is a project network maatrix')\n",
    "    EET=get_EETs.get_EETs(G)\n",
    "    LET=get_LETs.get_LETs(G,EET)\n",
    "    TFs_Dict=get_TFs.get_TFs(G,EET,LET)\n",
    "    critical_Path=[]\n",
    "    for i in list(TFs_Dict.keys()):\n",
    "        if TFs_Dict[i]==0:\n",
    "            critical_Path.append(i)\n",
    "    count=0\n",
    "    for i in critical_Path:\n",
    "        if eval(i)[0]==1:\n",
    "            count+=1\n",
    "    print(count)\n",
    "    CP=[]\n",
    "    for i in range(count):\n",
    "        L=['path'+str(i+1)]\n",
    "        L.append(eval(critical_Path[i]))\n",
    "        for j in critical_Path:\n",
    "            if eval(j)[0]==L[-1][-1]:\n",
    "                L.append(eval(j))\n",
    "            else:\n",
    "                continue\n",
    "        print(f'The NO.{i+1} critical path of this project network is {L}')\n",
    "        CP.append(L)\n",
    "    \n",
    "    return CP"
   ]
  },
  {
   "cell_type": "code",
   "execution_count": 438,
   "metadata": {},
   "outputs": [
    {
     "name": "stdout",
     "output_type": "stream",
     "text": [
      "define a n x n matrix with n list, each list has n element, make sure it is a project network maatrix\n"
     ]
    },
    {
     "ename": "UnboundLocalError",
     "evalue": "local variable 'G' referenced before assignment",
     "output_type": "error",
     "traceback": [
      "\u001b[0;31m---------------------------------------------------------------------------\u001b[0m",
      "\u001b[0;31mUnboundLocalError\u001b[0m                         Traceback (most recent call last)",
      "Cell \u001b[0;32mIn [438], line 1\u001b[0m\n\u001b[0;32m----> 1\u001b[0m My_CPM(x\u001b[39m=\u001b[39;49m[[\u001b[39m1\u001b[39;49m,\u001b[39m2\u001b[39;49m,\u001b[39m3\u001b[39;49m],[\u001b[39m1\u001b[39;49m,\u001b[39m3\u001b[39;49m]])\n",
      "Cell \u001b[0;32mIn [354], line 22\u001b[0m, in \u001b[0;36mMy_CPM\u001b[0;34m(x, n)\u001b[0m\n\u001b[1;32m     20\u001b[0m     \u001b[39melse\u001b[39;00m:\n\u001b[1;32m     21\u001b[0m         \u001b[39mprint\u001b[39m(\u001b[39m'\u001b[39m\u001b[39mdefine a n x n matrix with n list, each list has n element, make sure it is a project network maatrix\u001b[39m\u001b[39m'\u001b[39m)\n\u001b[0;32m---> 22\u001b[0m EET\u001b[39m=\u001b[39mget_EETs\u001b[39m.\u001b[39mget_EETs(G)\n\u001b[1;32m     23\u001b[0m LET\u001b[39m=\u001b[39mget_LETs\u001b[39m.\u001b[39mget_LETs(G,EET)\n\u001b[1;32m     24\u001b[0m TFs_Dict\u001b[39m=\u001b[39mget_TFs\u001b[39m.\u001b[39mget_TFs(G,EET,LET)\n",
      "\u001b[0;31mUnboundLocalError\u001b[0m: local variable 'G' referenced before assignment"
     ]
    }
   ],
   "source": [
    "My_CPM(x=[[1,2,3],[1,3]])"
   ]
  },
  {
   "cell_type": "code",
   "execution_count": 111,
   "metadata": {},
   "outputs": [
    {
     "data": {
      "text/plain": [
       "True"
      ]
     },
     "execution_count": 111,
     "metadata": {},
     "output_type": "execute_result"
    }
   ],
   "source": [
    "xx=[[-1,4,-1,-1],[-1,-1,7,10],[-1,-1,-1,1],[-1,-1,-1,-1]]\n",
    "y=list(map(len,xx))\n",
    "yx=list(y[0]*np.ones(len(y)))\n",
    "yx==y"
   ]
  },
  {
   "cell_type": "code",
   "execution_count": 5,
   "metadata": {},
   "outputs": [],
   "source": [
    "from random import randint\n",
    "import numpy as np\n",
    "\n",
    "def project_network_generater(n=30):\n",
    "    G=np.ones((n,n))\n",
    "    G*=-1\n",
    "# Make sure node 1 :node n has a full connected path\n",
    "    for i in range(n):\n",
    "        for j in range(i+1,n):\n",
    "            G[i,j]=randint(-1,10)\n",
    "    for i in range(n-1):\n",
    "        j=i+1\n",
    "        G[i,j]=randint(0,10)\n",
    "# Ensuring at most 4 income\n",
    "    for i in range(5,n):\n",
    "        popout_List=[]\n",
    "        while len(popout_List)<i-4:\n",
    "            random_Popout_Index=randint(0,i-2)\n",
    "            if  random_Popout_Index in popout_List:\n",
    "                continue\n",
    "            else:\n",
    "                popout_List.append(random_Popout_Index)\n",
    "        for item in popout_List:\n",
    "            G[item,i]=-1\n",
    "    return G"
   ]
  },
  {
   "cell_type": "code",
   "execution_count": 7,
   "metadata": {},
   "outputs": [
    {
     "data": {
      "text/plain": [
       "array([[-1.,  3.,  6.,  5.,  1., -1.,  0., -1., -1.],\n",
       "       [-1., -1.,  7.,  2.,  9., -1., -1., 10., -1.],\n",
       "       [-1., -1., -1.,  2.,  4.,  9.,  8., -1.,  7.],\n",
       "       [-1., -1., -1., -1.,  5.,  5., -1., -1.,  6.],\n",
       "       [-1., -1., -1., -1., -1.,  5.,  3., -1., -1.],\n",
       "       [-1., -1., -1., -1., -1., -1.,  1.,  0.,  4.],\n",
       "       [-1., -1., -1., -1., -1., -1., -1.,  2., -1.],\n",
       "       [-1., -1., -1., -1., -1., -1., -1., -1.,  3.],\n",
       "       [-1., -1., -1., -1., -1., -1., -1., -1., -1.]])"
      ]
     },
     "execution_count": 7,
     "metadata": {},
     "output_type": "execute_result"
    }
   ],
   "source": [
    "project_network_generater(9)"
   ]
  },
  {
   "cell_type": "code",
   "execution_count": 1,
   "metadata": {},
   "outputs": [],
   "source": [
    "import numpy as np"
   ]
  },
  {
   "cell_type": "code",
   "execution_count": 3,
   "metadata": {},
   "outputs": [
    {
     "data": {
      "text/plain": [
       "array([[1., 1., 1., 1.],\n",
       "       [1., 1., 1., 1.],\n",
       "       [1., 1., 1., 1.],\n",
       "       [1., 1., 1., 1.]])"
      ]
     },
     "execution_count": 3,
     "metadata": {},
     "output_type": "execute_result"
    }
   ],
   "source": [
    "x=np.ones((4,4))\n",
    "x"
   ]
  },
  {
   "cell_type": "code",
   "execution_count": 7,
   "metadata": {},
   "outputs": [
    {
     "data": {
      "text/plain": [
       "True"
      ]
     },
     "execution_count": 7,
     "metadata": {},
     "output_type": "execute_result"
    }
   ],
   "source": [
    "type(x)==type(np.ones((1,1)))"
   ]
  },
  {
   "cell_type": "code",
   "execution_count": null,
   "metadata": {},
   "outputs": [],
   "source": []
  }
 ],
 "metadata": {
  "kernelspec": {
   "display_name": "Python 3.10.5 64-bit",
   "language": "python",
   "name": "python3"
  },
  "language_info": {
   "codemirror_mode": {
    "name": "ipython",
    "version": 3
   },
   "file_extension": ".py",
   "mimetype": "text/x-python",
   "name": "python",
   "nbconvert_exporter": "python",
   "pygments_lexer": "ipython3",
   "version": "3.10.5"
  },
  "orig_nbformat": 4,
  "vscode": {
   "interpreter": {
    "hash": "aee8b7b246df8f9039afb4144a1f6fd8d2ca17a180786b69acc140d282b71a49"
   }
  }
 },
 "nbformat": 4,
 "nbformat_minor": 2
}
